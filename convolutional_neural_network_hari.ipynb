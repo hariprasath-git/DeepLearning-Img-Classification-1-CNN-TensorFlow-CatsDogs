{
 "cells": [
  {
   "cell_type": "markdown",
   "metadata": {
    "id": "3DR-eO17geWu"
   },
   "source": [
    "# Convolutional Neural Network"
   ]
  },
  {
   "cell_type": "markdown",
   "metadata": {
    "id": "EMefrVPCg-60"
   },
   "source": [
    "### Importing the libraries"
   ]
  },
  {
   "cell_type": "code",
   "execution_count": 1,
   "metadata": {
    "id": "sCV30xyVhFbE"
   },
   "outputs": [],
   "source": [
    "import tensorflow as tf\n",
    "from keras.preprocessing.image import ImageDataGenerator  "
   ]
  },
  {
   "cell_type": "code",
   "execution_count": 2,
   "metadata": {
    "colab": {
     "base_uri": "https://localhost:8080/",
     "height": 35
    },
    "id": "FIleuCAjoFD8",
    "outputId": "f8f1b103-60da-48dd-bc52-586ca57f6304"
   },
   "outputs": [
    {
     "data": {
      "text/plain": [
       "'2.3.0'"
      ]
     },
     "execution_count": 2,
     "metadata": {},
     "output_type": "execute_result"
    }
   ],
   "source": [
    "tf.__version__"
   ]
  },
  {
   "cell_type": "markdown",
   "metadata": {
    "id": "oxQxCBWyoGPE"
   },
   "source": [
    "## Part 1 - Data Preprocessing"
   ]
  },
  {
   "cell_type": "markdown",
   "metadata": {
    "id": "MvE-heJNo3GG"
   },
   "source": [
    "### Preprocessing the Training set"
   ]
  },
  {
   "cell_type": "code",
   "execution_count": 3,
   "metadata": {
    "id": "0koUcJMJpEBD"
   },
   "outputs": [],
   "source": [
    "train_datagen = ImageDataGenerator(\n",
    "                                   rescale=1./255,\n",
    "                                   shear_range=0.2,\n",
    "                                   zoom_range=0.2,\n",
    "                                   horizontal_flip= True\n",
    "                                  )"
   ]
  },
  {
   "cell_type": "code",
   "execution_count": 4,
   "metadata": {},
   "outputs": [
    {
     "name": "stdout",
     "output_type": "stream",
     "text": [
      "Found 8000 images belonging to 2 classes.\n"
     ]
    }
   ],
   "source": [
    "training_set = train_datagen.flow_from_directory('dataset/training_set',\n",
    "                                                 target_size = (64, 64),\n",
    "                                                 batch_size = 32,\n",
    "                                                 class_mode='binary'\n",
    "                                                 )"
   ]
  },
  {
   "cell_type": "markdown",
   "metadata": {
    "id": "mrCMmGw9pHys"
   },
   "source": [
    "### Preprocessing the Test set"
   ]
  },
  {
   "cell_type": "code",
   "execution_count": 5,
   "metadata": {
    "id": "SH4WzfOhpKc3"
   },
   "outputs": [
    {
     "name": "stdout",
     "output_type": "stream",
     "text": [
      "Found 2000 images belonging to 2 classes.\n"
     ]
    }
   ],
   "source": [
    "test_datagen = ImageDataGenerator(\n",
    "                                   rescale=1./255\n",
    "                                  )\n",
    "\n",
    "test_set = test_datagen.flow_from_directory(directory='dataset/test_set',\n",
    "                                                 target_size=(64,64),\n",
    "                                                 class_mode='binary',\n",
    "                                                 batch_size=32,\n",
    "                                                 shuffle=True\n",
    "                                                 )"
   ]
  },
  {
   "cell_type": "markdown",
   "metadata": {
    "id": "af8O4l90gk7B"
   },
   "source": [
    "## Part 2 - Building the CNN"
   ]
  },
  {
   "cell_type": "markdown",
   "metadata": {
    "id": "ces1gXY2lmoX"
   },
   "source": [
    "### Initialising the CNN"
   ]
  },
  {
   "cell_type": "code",
   "execution_count": 6,
   "metadata": {
    "id": "SAUt4UMPlhLS"
   },
   "outputs": [],
   "source": [
    "cnn = tf.keras.Sequential()"
   ]
  },
  {
   "cell_type": "markdown",
   "metadata": {
    "id": "u5YJj_XMl5LF"
   },
   "source": [
    "### Step 1 - Convolution"
   ]
  },
  {
   "cell_type": "code",
   "execution_count": 7,
   "metadata": {
    "id": "XPzPrMckl-hV"
   },
   "outputs": [],
   "source": [
    "cnn.add(tf.keras.layers.Conv2D(filters=32,\n",
    "                               kernel_size=3,\n",
    "                               strides=(1,1),\n",
    "                               padding='valid',\n",
    "                               activation='relu',\n",
    "                               input_shape=[64,64,3]))"
   ]
  },
  {
   "cell_type": "markdown",
   "metadata": {
    "id": "tf87FpvxmNOJ"
   },
   "source": [
    "### Step 2 - Pooling"
   ]
  },
  {
   "cell_type": "code",
   "execution_count": 8,
   "metadata": {
    "id": "ncpqPl69mOac"
   },
   "outputs": [],
   "source": [
    "cnn.add(tf.keras.layers.MaxPool2D(pool_size=2, \n",
    "                                  strides=2))"
   ]
  },
  {
   "cell_type": "markdown",
   "metadata": {
    "id": "xaTOgD8rm4mU"
   },
   "source": [
    "### Adding a second convolutional layer"
   ]
  },
  {
   "cell_type": "code",
   "execution_count": 9,
   "metadata": {
    "id": "i_-FZjn_m8gk"
   },
   "outputs": [],
   "source": [
    "cnn.add(tf.keras.layers.Conv2D(filters=32,\n",
    "                               kernel_size=3,\n",
    "                               strides=(1,1),\n",
    "                               padding='valid',\n",
    "                               activation='relu'))\n",
    "\n",
    "cnn.add(tf.keras.layers.MaxPool2D(pool_size=2, \n",
    "                                  strides=2))"
   ]
  },
  {
   "cell_type": "markdown",
   "metadata": {
    "id": "tmiEuvTunKfk"
   },
   "source": [
    "### Step 3 - Flattening"
   ]
  },
  {
   "cell_type": "code",
   "execution_count": 10,
   "metadata": {
    "id": "9CgjP0LEyL0Q"
   },
   "outputs": [],
   "source": [
    "cnn.add(tf.keras.layers.Flatten())"
   ]
  },
  {
   "cell_type": "markdown",
   "metadata": {
    "id": "dAoSECOm203v"
   },
   "source": [
    "### Step 4 - Full Connection"
   ]
  },
  {
   "cell_type": "code",
   "execution_count": 11,
   "metadata": {
    "id": "8GtmUlLd26Nq"
   },
   "outputs": [],
   "source": [
    "cnn.add(tf.keras.layers.Dense(units=128,\n",
    "                              activation='relu'\n",
    "                              ))"
   ]
  },
  {
   "cell_type": "markdown",
   "metadata": {
    "id": "yTldFvbX28Na"
   },
   "source": [
    "### Step 5 - Output Layer"
   ]
  },
  {
   "cell_type": "code",
   "execution_count": 12,
   "metadata": {
    "id": "1p_Zj1Mc3Ko_"
   },
   "outputs": [],
   "source": [
    "cnn.add(tf.keras.layers.Dense(units=1, activation='sigmoid'))"
   ]
  },
  {
   "cell_type": "markdown",
   "metadata": {
    "id": "D6XkI90snSDl"
   },
   "source": [
    "## Part 3 - Training the CNN"
   ]
  },
  {
   "cell_type": "markdown",
   "metadata": {
    "id": "vfrFQACEnc6i"
   },
   "source": [
    "### Compiling the CNN"
   ]
  },
  {
   "cell_type": "code",
   "execution_count": 13,
   "metadata": {
    "id": "NALksrNQpUlJ"
   },
   "outputs": [],
   "source": [
    "cnn.compile(optimizer='adam',\n",
    "            loss='binary_crossentropy',\n",
    "            metrics = ['accuracy'])"
   ]
  },
  {
   "cell_type": "markdown",
   "metadata": {
    "id": "ehS-v3MIpX2h"
   },
   "source": [
    "### Training the CNN on the Training set and evaluating it on the Test set"
   ]
  },
  {
   "cell_type": "code",
   "execution_count": 14,
   "metadata": {
    "id": "XUj1W4PJptta"
   },
   "outputs": [
    {
     "name": "stdout",
     "output_type": "stream",
     "text": [
      "Epoch 1/25\n",
      "250/250 [==============================] - 38s 152ms/step - loss: 0.6821 - accuracy: 0.5648 - val_loss: 0.6874 - val_accuracy: 0.5710\n",
      "Epoch 2/25\n",
      "250/250 [==============================] - 40s 161ms/step - loss: 0.6163 - accuracy: 0.6629 - val_loss: 0.5716 - val_accuracy: 0.7065\n",
      "Epoch 3/25\n",
      "250/250 [==============================] - 37s 150ms/step - loss: 0.5745 - accuracy: 0.7015 - val_loss: 0.5281 - val_accuracy: 0.7435\n",
      "Epoch 4/25\n",
      "250/250 [==============================] - 41s 164ms/step - loss: 0.5366 - accuracy: 0.7291 - val_loss: 0.5285 - val_accuracy: 0.7475\n",
      "Epoch 5/25\n",
      "250/250 [==============================] - 42s 167ms/step - loss: 0.5042 - accuracy: 0.7534 - val_loss: 0.5384 - val_accuracy: 0.7360\n",
      "Epoch 6/25\n",
      "250/250 [==============================] - 41s 163ms/step - loss: 0.4770 - accuracy: 0.7726 - val_loss: 0.5061 - val_accuracy: 0.7595\n",
      "Epoch 7/25\n",
      "250/250 [==============================] - 39s 158ms/step - loss: 0.4615 - accuracy: 0.7789 - val_loss: 0.4776 - val_accuracy: 0.7790\n",
      "Epoch 8/25\n",
      "250/250 [==============================] - 42s 168ms/step - loss: 0.4548 - accuracy: 0.7860 - val_loss: 0.4715 - val_accuracy: 0.7735\n",
      "Epoch 9/25\n",
      "250/250 [==============================] - 39s 155ms/step - loss: 0.4302 - accuracy: 0.7952 - val_loss: 0.4730 - val_accuracy: 0.7800\n",
      "Epoch 10/25\n",
      "250/250 [==============================] - 45s 181ms/step - loss: 0.4158 - accuracy: 0.8067 - val_loss: 0.4716 - val_accuracy: 0.7915\n",
      "Epoch 11/25\n",
      "250/250 [==============================] - 42s 169ms/step - loss: 0.4058 - accuracy: 0.8125 - val_loss: 0.4738 - val_accuracy: 0.7845\n",
      "Epoch 12/25\n",
      "250/250 [==============================] - 43s 172ms/step - loss: 0.3996 - accuracy: 0.8180 - val_loss: 0.4644 - val_accuracy: 0.8005\n",
      "Epoch 13/25\n",
      "250/250 [==============================] - 44s 175ms/step - loss: 0.3954 - accuracy: 0.8165 - val_loss: 0.4895 - val_accuracy: 0.7910\n",
      "Epoch 14/25\n",
      "250/250 [==============================] - 40s 161ms/step - loss: 0.3816 - accuracy: 0.8242 - val_loss: 0.4730 - val_accuracy: 0.7920\n",
      "Epoch 15/25\n",
      "250/250 [==============================] - 45s 181ms/step - loss: 0.3695 - accuracy: 0.8339 - val_loss: 0.4962 - val_accuracy: 0.7885\n",
      "Epoch 16/25\n",
      "250/250 [==============================] - 47s 187ms/step - loss: 0.3525 - accuracy: 0.8419 - val_loss: 0.4497 - val_accuracy: 0.8060\n",
      "Epoch 17/25\n",
      "250/250 [==============================] - 47s 189ms/step - loss: 0.3422 - accuracy: 0.8474 - val_loss: 0.4475 - val_accuracy: 0.8070\n",
      "Epoch 18/25\n",
      "250/250 [==============================] - 41s 163ms/step - loss: 0.3331 - accuracy: 0.8486 - val_loss: 0.5499 - val_accuracy: 0.7830\n",
      "Epoch 19/25\n",
      "250/250 [==============================] - 43s 171ms/step - loss: 0.3250 - accuracy: 0.8583 - val_loss: 0.4810 - val_accuracy: 0.8055\n",
      "Epoch 20/25\n",
      "250/250 [==============================] - 43s 173ms/step - loss: 0.3155 - accuracy: 0.8609 - val_loss: 0.4588 - val_accuracy: 0.8130\n",
      "Epoch 21/25\n",
      "250/250 [==============================] - 44s 176ms/step - loss: 0.3033 - accuracy: 0.8706 - val_loss: 0.4486 - val_accuracy: 0.8170\n",
      "Epoch 22/25\n",
      "250/250 [==============================] - 41s 166ms/step - loss: 0.2886 - accuracy: 0.8785 - val_loss: 0.4419 - val_accuracy: 0.8125\n",
      "Epoch 23/25\n",
      "250/250 [==============================] - 41s 163ms/step - loss: 0.2908 - accuracy: 0.8711 - val_loss: 0.4819 - val_accuracy: 0.8100\n",
      "Epoch 24/25\n",
      "250/250 [==============================] - 43s 174ms/step - loss: 0.2682 - accuracy: 0.8842 - val_loss: 0.4747 - val_accuracy: 0.8140\n",
      "Epoch 25/25\n",
      "250/250 [==============================] - 44s 175ms/step - loss: 0.2517 - accuracy: 0.8953 - val_loss: 0.5038 - val_accuracy: 0.8075\n"
     ]
    },
    {
     "data": {
      "text/plain": [
       "<tensorflow.python.keras.callbacks.History at 0x162738d0400>"
      ]
     },
     "execution_count": 14,
     "metadata": {},
     "output_type": "execute_result"
    }
   ],
   "source": [
    "cnn.fit(x= training_set, validation_data=test_set, epochs=25) #epochs must be 25\n",
    "\n",
    "\n",
    "#training images = 8000\n",
    "#each_batch_size = 32\n",
    "#no.of batches = 8000/32 => 250\n",
    "#25 epochs =>>> 25(epochs)*250(batches)"
   ]
  },
  {
   "cell_type": "code",
   "execution_count": 15,
   "metadata": {},
   "outputs": [
    {
     "name": "stdout",
     "output_type": "stream",
     "text": [
      "Model: \"sequential\"\n",
      "_________________________________________________________________\n",
      "Layer (type)                 Output Shape              Param #   \n",
      "=================================================================\n",
      "conv2d (Conv2D)              (None, 62, 62, 32)        896       \n",
      "_________________________________________________________________\n",
      "max_pooling2d (MaxPooling2D) (None, 31, 31, 32)        0         \n",
      "_________________________________________________________________\n",
      "conv2d_1 (Conv2D)            (None, 29, 29, 32)        9248      \n",
      "_________________________________________________________________\n",
      "max_pooling2d_1 (MaxPooling2 (None, 14, 14, 32)        0         \n",
      "_________________________________________________________________\n",
      "flatten (Flatten)            (None, 6272)              0         \n",
      "_________________________________________________________________\n",
      "dense (Dense)                (None, 128)               802944    \n",
      "_________________________________________________________________\n",
      "dense_1 (Dense)              (None, 1)                 129       \n",
      "=================================================================\n",
      "Total params: 813,217\n",
      "Trainable params: 813,217\n",
      "Non-trainable params: 0\n",
      "_________________________________________________________________\n"
     ]
    }
   ],
   "source": [
    "cnn.summary()"
   ]
  },
  {
   "cell_type": "code",
   "execution_count": 16,
   "metadata": {},
   "outputs": [],
   "source": [
    "#cnn.history will be lost if we use any other operations on cnn like cnn.predict. \n",
    "#so save the history dictionary into another variable so that it is saved even if there are any other operations on cnn henceforth.\n",
    "\n",
    "cnn_training_vald_history_saved = cnn.history.history"
   ]
  },
  {
   "cell_type": "code",
   "execution_count": 17,
   "metadata": {},
   "outputs": [
    {
     "name": "stdout",
     "output_type": "stream",
     "text": [
      "params=  {'verbose': 1, 'epochs': 25, 'steps': 250}\n",
      "model=  <tensorflow.python.keras.engine.sequential.Sequential object at 0x000001627360DF70>\n",
      "history=  {'loss': [0.6820610761642456, 0.6163312792778015, 0.574527382850647, 0.5365579724311829, 0.5042347311973572, 0.4769839346408844, 0.4615122377872467, 0.4547981023788452, 0.4301699101924896, 0.41582703590393066, 0.40575873851776123, 0.3996175527572632, 0.3954332172870636, 0.3816240727901459, 0.36951667070388794, 0.35254865884780884, 0.3421567976474762, 0.33313027024269104, 0.3249906301498413, 0.3154725730419159, 0.3032959997653961, 0.2886430025100708, 0.29082566499710083, 0.2682245969772339, 0.25165438652038574], 'accuracy': [0.5647500157356262, 0.6628749966621399, 0.7014999985694885, 0.7291250228881836, 0.7533749938011169, 0.7726250290870667, 0.7788749933242798, 0.7860000133514404, 0.7952499985694885, 0.8067499995231628, 0.8125, 0.8180000185966492, 0.8165000081062317, 0.8242499828338623, 0.8338750004768372, 0.8418750166893005, 0.8473749756813049, 0.8486250042915344, 0.8582500219345093, 0.8608750104904175, 0.8706250190734863, 0.8784999847412109, 0.8711249828338623, 0.8842499852180481, 0.8952500224113464], 'val_loss': [0.687354326248169, 0.5715648531913757, 0.5281370878219604, 0.5285478234291077, 0.5383986234664917, 0.5060543417930603, 0.4775683283805847, 0.4714796543121338, 0.4730117917060852, 0.471608966588974, 0.47379836440086365, 0.4643588960170746, 0.48951947689056396, 0.47301775217056274, 0.49615567922592163, 0.4497186243534088, 0.44747790694236755, 0.5498884320259094, 0.48099684715270996, 0.4587899446487427, 0.4485829472541809, 0.44191089272499084, 0.48187071084976196, 0.47472894191741943, 0.5037738680839539], 'val_accuracy': [0.5709999799728394, 0.7064999938011169, 0.7434999942779541, 0.7475000023841858, 0.7360000014305115, 0.7595000267028809, 0.7789999842643738, 0.7735000252723694, 0.7799999713897705, 0.7914999723434448, 0.784500002861023, 0.8004999756813049, 0.7910000085830688, 0.7919999957084656, 0.7885000109672546, 0.8059999942779541, 0.8069999814033508, 0.7829999923706055, 0.8054999709129333, 0.8130000233650208, 0.8169999718666077, 0.8125, 0.8100000023841858, 0.8140000104904175, 0.8075000047683716]}\n",
      "history type=  <class 'dict'>\n",
      "history.keys=  dict_keys(['loss', 'accuracy', 'val_loss', 'val_accuracy'])\n",
      "loss=  [0.6820610761642456, 0.6163312792778015, 0.574527382850647, 0.5365579724311829, 0.5042347311973572, 0.4769839346408844, 0.4615122377872467, 0.4547981023788452, 0.4301699101924896, 0.41582703590393066, 0.40575873851776123, 0.3996175527572632, 0.3954332172870636, 0.3816240727901459, 0.36951667070388794, 0.35254865884780884, 0.3421567976474762, 0.33313027024269104, 0.3249906301498413, 0.3154725730419159, 0.3032959997653961, 0.2886430025100708, 0.29082566499710083, 0.2682245969772339, 0.25165438652038574]\n",
      "val_loss=  [0.687354326248169, 0.5715648531913757, 0.5281370878219604, 0.5285478234291077, 0.5383986234664917, 0.5060543417930603, 0.4775683283805847, 0.4714796543121338, 0.4730117917060852, 0.471608966588974, 0.47379836440086365, 0.4643588960170746, 0.48951947689056396, 0.47301775217056274, 0.49615567922592163, 0.4497186243534088, 0.44747790694236755, 0.5498884320259094, 0.48099684715270996, 0.4587899446487427, 0.4485829472541809, 0.44191089272499084, 0.48187071084976196, 0.47472894191741943, 0.5037738680839539]\n",
      "accuracy=  [0.5647500157356262, 0.6628749966621399, 0.7014999985694885, 0.7291250228881836, 0.7533749938011169, 0.7726250290870667, 0.7788749933242798, 0.7860000133514404, 0.7952499985694885, 0.8067499995231628, 0.8125, 0.8180000185966492, 0.8165000081062317, 0.8242499828338623, 0.8338750004768372, 0.8418750166893005, 0.8473749756813049, 0.8486250042915344, 0.8582500219345093, 0.8608750104904175, 0.8706250190734863, 0.8784999847412109, 0.8711249828338623, 0.8842499852180481, 0.8952500224113464]\n",
      "val_accuracy=  [0.5709999799728394, 0.7064999938011169, 0.7434999942779541, 0.7475000023841858, 0.7360000014305115, 0.7595000267028809, 0.7789999842643738, 0.7735000252723694, 0.7799999713897705, 0.7914999723434448, 0.784500002861023, 0.8004999756813049, 0.7910000085830688, 0.7919999957084656, 0.7885000109672546, 0.8059999942779541, 0.8069999814033508, 0.7829999923706055, 0.8054999709129333, 0.8130000233650208, 0.8169999718666077, 0.8125, 0.8100000023841858, 0.8140000104904175, 0.8075000047683716]\n",
      "[0.6820610761642456, 0.6163312792778015, 0.574527382850647, 0.5365579724311829, 0.5042347311973572, 0.4769839346408844, 0.4615122377872467, 0.4547981023788452, 0.4301699101924896, 0.41582703590393066, 0.40575873851776123, 0.3996175527572632, 0.3954332172870636, 0.3816240727901459, 0.36951667070388794, 0.35254865884780884, 0.3421567976474762, 0.33313027024269104, 0.3249906301498413, 0.3154725730419159, 0.3032959997653961, 0.2886430025100708, 0.29082566499710083, 0.2682245969772339, 0.25165438652038574]\n"
     ]
    }
   ],
   "source": [
    "print('params= ',cnn.history.params)\n",
    "print('model= ',cnn.history.model)\n",
    "print('history= ',cnn.history.history)  #dictionary\n",
    "print('history type= ',type(cnn.history.history))\n",
    "print('history.keys= ',cnn.history.history.keys())\n",
    "print('loss= ', cnn.history.history['loss'])\n",
    "print('val_loss= ', cnn.history.history['val_loss'])\n",
    "print('accuracy= ', cnn.history.history['accuracy'])\n",
    "print('val_accuracy= ', cnn.history.history['val_accuracy'])\n",
    "print(cnn_training_vald_history_saved['loss'])"
   ]
  },
  {
   "cell_type": "code",
   "execution_count": 42,
   "metadata": {},
   "outputs": [
    {
     "ename": "KeyError",
     "evalue": "'loss'",
     "output_type": "error",
     "traceback": [
      "\u001b[1;31m---------------------------------------------------------------------------\u001b[0m",
      "\u001b[1;31mKeyError\u001b[0m                                  Traceback (most recent call last)",
      "\u001b[1;32m<ipython-input-42-57aad1785666>\u001b[0m in \u001b[0;36m<module>\u001b[1;34m\u001b[0m\n\u001b[0;32m      3\u001b[0m \u001b[1;33m\u001b[0m\u001b[0m\n\u001b[0;32m      4\u001b[0m \u001b[1;31m#Loss plot\u001b[0m\u001b[1;33m\u001b[0m\u001b[1;33m\u001b[0m\u001b[1;33m\u001b[0m\u001b[0m\n\u001b[1;32m----> 5\u001b[1;33m \u001b[0mplt\u001b[0m\u001b[1;33m.\u001b[0m\u001b[0mplot\u001b[0m\u001b[1;33m(\u001b[0m\u001b[0mcnn\u001b[0m\u001b[1;33m.\u001b[0m\u001b[0mhistory\u001b[0m\u001b[1;33m.\u001b[0m\u001b[0mhistory\u001b[0m\u001b[1;33m[\u001b[0m\u001b[1;34m'loss'\u001b[0m\u001b[1;33m]\u001b[0m\u001b[1;33m,\u001b[0m \u001b[0mlabel\u001b[0m\u001b[1;33m=\u001b[0m\u001b[1;34m'train_loss'\u001b[0m\u001b[1;33m)\u001b[0m\u001b[1;33m\u001b[0m\u001b[1;33m\u001b[0m\u001b[0m\n\u001b[0m\u001b[0;32m      6\u001b[0m \u001b[0mplt\u001b[0m\u001b[1;33m.\u001b[0m\u001b[0mplot\u001b[0m\u001b[1;33m(\u001b[0m\u001b[0mcnn\u001b[0m\u001b[1;33m.\u001b[0m\u001b[0mhistory\u001b[0m\u001b[1;33m.\u001b[0m\u001b[0mhistory\u001b[0m\u001b[1;33m[\u001b[0m\u001b[1;34m'val_loss'\u001b[0m\u001b[1;33m]\u001b[0m\u001b[1;33m,\u001b[0m \u001b[0mlabel\u001b[0m\u001b[1;33m=\u001b[0m\u001b[1;34m'val_loss'\u001b[0m\u001b[1;33m)\u001b[0m\u001b[1;33m\u001b[0m\u001b[1;33m\u001b[0m\u001b[0m\n\u001b[0;32m      7\u001b[0m \u001b[0mplt\u001b[0m\u001b[1;33m.\u001b[0m\u001b[0mlegend\u001b[0m\u001b[1;33m(\u001b[0m\u001b[1;33m)\u001b[0m\u001b[1;33m\u001b[0m\u001b[1;33m\u001b[0m\u001b[0m\n",
      "\u001b[1;31mKeyError\u001b[0m: 'loss'"
     ]
    }
   ],
   "source": [
    "# plot the loss\n",
    "import matplotlib.pyplot as plt\n",
    "\n",
    "#Loss plot\n",
    "plt.plot(cnn.history.history['loss'], label='train_loss')\n",
    "plt.plot(cnn.history.history['val_loss'], label='val_loss')\n",
    "plt.legend()\n",
    "plt.title('Loss comparison between Training and Validation')\n",
    "plt.ylabel('Loss')\n",
    "plt.xlabel('epoch')\n",
    "plt.show()\n",
    "plt.savefig('plot_Loss_train_val')\n",
    "\n",
    "#Accuracy plot\n",
    "plt.plot(cnn.history.history['accuracy'], label='train_accuracy')\n",
    "plt.plot(cnn.history.history['val_accuracy'], label='val_accuracy')\n",
    "plt.legend()\n",
    "plt.title('Accuracy comparison between Training and Validation')\n",
    "plt.ylabel('Accuracy')\n",
    "plt.xlabel('epoch')\n",
    "plt.show()\n",
    "plt.savefig('plot_Accuracy_train_val')"
   ]
  },
  {
   "cell_type": "code",
   "execution_count": 45,
   "metadata": {},
   "outputs": [
    {
     "data": {
      "image/png": "[encoded data removed]",
      "text/plain": [
       "<Figure size 432x288 with 1 Axes>"
      ]
     },
     "metadata": {
      "needs_background": "light"
     },
     "output_type": "display_data"
    },
    {
     "data": {
      "image/png": "[encoded data removed]",
      "text/plain": [
       "<Figure size 432x288 with 1 Axes>"
      ]
     },
     "metadata": {
      "needs_background": "light"
     },
     "output_type": "display_data"
    }
   ],
   "source": [
    "# plot the loss using saved history\n",
    "import matplotlib.pyplot as plt\n",
    "\n",
    "#Loss plot\n",
    "plt.plot(cnn_training_vald_history_saved['loss'], label='train_loss')\n",
    "plt.plot(cnn_training_vald_history_saved['val_loss'], label='val_loss')\n",
    "plt.legend()\n",
    "plt.title('Loss comparison between Training and Validation')\n",
    "plt.ylabel('Loss')\n",
    "plt.xlabel('epoch')\n",
    "plt.savefig('plot_Loss_train_val')  #save should come before show, else empty image will be saved\n",
    "plt.show()\n",
    "\n",
    "#Accuracy plot\n",
    "plt.plot(cnn_training_vald_history_saved['accuracy'], label='train_accuracy')\n",
    "plt.plot(cnn_training_vald_history_saved['val_accuracy'], label='val_accuracy')\n",
    "plt.legend()\n",
    "plt.title('Accuracy comparison between Training and Validation')\n",
    "plt.ylabel('Accuracy')\n",
    "plt.xlabel('epoch')\n",
    "plt.savefig('plot_Accuracy_train_val')\n",
    "plt.show()"
   ]
  },
  {
   "cell_type": "markdown",
   "metadata": {},
   "source": [
    "## Save Model"
   ]
  },
  {
   "cell_type": "code",
   "execution_count": 19,
   "metadata": {},
   "outputs": [],
   "source": [
    "# save it as a h5 file\n",
    "from tensorflow.keras.models import load_model\n",
    "\n",
    "cnn.save('model_cnn_cat_dog.h5')"
   ]
  },
  {
   "cell_type": "markdown",
   "metadata": {},
   "source": [
    "## Load Model again"
   ]
  },
  {
   "cell_type": "code",
   "execution_count": 20,
   "metadata": {},
   "outputs": [],
   "source": [
    "model = load_model('model_cnn_cat_dog.h5')"
   ]
  },
  {
   "cell_type": "code",
   "execution_count": 21,
   "metadata": {},
   "outputs": [
    {
     "name": "stdout",
     "output_type": "stream",
     "text": [
      "Model: \"sequential\"\n",
      "_________________________________________________________________\n",
      "Layer (type)                 Output Shape              Param #   \n",
      "=================================================================\n",
      "conv2d (Conv2D)              (None, 62, 62, 32)        896       \n",
      "_________________________________________________________________\n",
      "max_pooling2d (MaxPooling2D) (None, 31, 31, 32)        0         \n",
      "_________________________________________________________________\n",
      "conv2d_1 (Conv2D)            (None, 29, 29, 32)        9248      \n",
      "_________________________________________________________________\n",
      "max_pooling2d_1 (MaxPooling2 (None, 14, 14, 32)        0         \n",
      "_________________________________________________________________\n",
      "flatten (Flatten)            (None, 6272)              0         \n",
      "_________________________________________________________________\n",
      "dense (Dense)                (None, 128)               802944    \n",
      "_________________________________________________________________\n",
      "dense_1 (Dense)              (None, 1)                 129       \n",
      "=================================================================\n",
      "Total params: 813,217\n",
      "Trainable params: 813,217\n",
      "Non-trainable params: 0\n",
      "_________________________________________________________________\n"
     ]
    }
   ],
   "source": [
    "model.summary()"
   ]
  },
  {
   "cell_type": "markdown",
   "metadata": {
    "id": "U3PZasO0006Z"
   },
   "source": [
    "## Part 4 - Making a single prediction"
   ]
  },
  {
   "cell_type": "code",
   "execution_count": 40,
   "metadata": {
    "id": "LaHKW6sW2Unt"
   },
   "outputs": [
    {
     "data": {
      "text/plain": [
       "{'cats': 0, 'dogs': 1}"
      ]
     },
     "execution_count": 40,
     "metadata": {},
     "output_type": "execute_result"
    }
   ],
   "source": [
    "training_set.class_indices"
   ]
  },
  {
   "cell_type": "code",
   "execution_count": 41,
   "metadata": {
    "id": "gsSiWEJY1BPB"
   },
   "outputs": [
    {
     "name": "stdout",
     "output_type": "stream",
     "text": [
      "Dogg\n"
     ]
    }
   ],
   "source": [
    "import numpy as np\n",
    "from keras.preprocessing import image\n",
    "\n",
    "test_image=image.load_img(path='dataset/single_prediction/dog2.jpg',\n",
    "                          grayscale=False,\n",
    "                          color_mode='rgb',\n",
    "                          target_size=(64,64),\n",
    "                          interpolation='nearest')  #return PIL - python image library instance\n",
    "\n",
    "test_image = image.img_to_array(test_image)\n",
    "test_image = np.expand_dims(test_image, axis=0)\n",
    "result = cnn.predict(test_image)  \n",
    "\n",
    "if result[0][0]==1:\n",
    "  prediction='Dogg'\n",
    "  print(prediction)\n",
    "else:\n",
    "  prediction='Cat'\n",
    "  print(prediction)"
   ]
  }
 ],
 "metadata": {
  "colab": {
   "collapsed_sections": [],
   "name": "convolutional_neural_network.ipynb",
   "provenance": [],
   "toc_visible": true
  },
  "kernelspec": {
   "display_name": "Python 3",
   "language": "python",
   "name": "python3"
  },
  "language_info": {
   "codemirror_mode": {
    "name": "ipython",
    "version": 3
   },
   "file_extension": ".py",
   "mimetype": "text/x-python",
   "name": "python",
   "nbconvert_exporter": "python",
   "pygments_lexer": "ipython3",
   "version": "3.8.5"
  }
 },
 "nbformat": 4,
 "nbformat_minor": 1
}
