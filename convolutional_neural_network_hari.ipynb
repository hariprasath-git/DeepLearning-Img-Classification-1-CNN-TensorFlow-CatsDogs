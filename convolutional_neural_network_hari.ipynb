{
 "cells": [
  {
   "cell_type": "markdown",
   "metadata": {
    "id": "3DR-eO17geWu"
   },
   "source": [
    "# Convolutional Neural Network"
   ]
  },
  {
   "cell_type": "markdown",
   "metadata": {
    "id": "EMefrVPCg-60"
   },
   "source": [
    "### Importing the libraries"
   ]
  },
  {
   "cell_type": "code",
   "execution_count": 1,
   "metadata": {
    "id": "sCV30xyVhFbE"
   },
   "outputs": [],
   "source": [
    "import tensorflow as tf\n",
    "from keras.preprocessing.image import ImageDataGenerator  "
   ]
  },
  {
   "cell_type": "code",
   "execution_count": 2,
   "metadata": {
    "colab": {
     "base_uri": "https://localhost:8080/",
     "height": 35
    },
    "id": "FIleuCAjoFD8",
    "outputId": "f8f1b103-60da-48dd-bc52-586ca57f6304"
   },
   "outputs": [
    {
     "data": {
      "text/plain": [
       "'2.3.0'"
      ]
     },
     "execution_count": 2,
     "metadata": {},
     "output_type": "execute_result"
    }
   ],
   "source": [
    "tf.__version__"
   ]
  },
  {
   "cell_type": "markdown",
   "metadata": {
    "id": "oxQxCBWyoGPE"
   },
   "source": [
    "## Part 1 - Data Preprocessing"
   ]
  },
  {
   "cell_type": "markdown",
   "metadata": {
    "id": "MvE-heJNo3GG"
   },
   "source": [
    "### Preprocessing the Training set"
   ]
  },
  {
   "cell_type": "code",
   "execution_count": 3,
   "metadata": {
    "id": "0koUcJMJpEBD"
   },
   "outputs": [],
   "source": [
    "train_datagen = ImageDataGenerator(\n",
    "                                   rescale=1./255,\n",
    "                                   shear_range=0.2,\n",
    "                                   zoom_range=0.2,\n",
    "                                   horizontal_flip= True\n",
    "                                  )"
   ]
  },
  {
   "cell_type": "code",
   "execution_count": 4,
   "metadata": {},
   "outputs": [
    {
     "name": "stdout",
     "output_type": "stream",
     "text": [
      "Found 8000 images belonging to 2 classes.\n"
     ]
    }
   ],
   "source": [
    "training_set = train_datagen.flow_from_directory('dataset/training_set',\n",
    "                                                 target_size = (64, 64),\n",
    "                                                 batch_size = 32,\n",
    "                                                 class_mode='binary'\n",
    "                                                 )"
   ]
  },
  {
   "cell_type": "markdown",
   "metadata": {
    "id": "mrCMmGw9pHys"
   },
   "source": [
    "### Preprocessing the Test set"
   ]
  },
  {
   "cell_type": "code",
   "execution_count": 5,
   "metadata": {
    "id": "SH4WzfOhpKc3"
   },
   "outputs": [
    {
     "name": "stdout",
     "output_type": "stream",
     "text": [
      "Found 2000 images belonging to 2 classes.\n"
     ]
    }
   ],
   "source": [
    "test_datagen = ImageDataGenerator(\n",
    "                                   rescale=1./255\n",
    "                                  )\n",
    "\n",
    "test_set = test_datagen.flow_from_directory(directory='dataset/test_set',\n",
    "                                                 target_size=(64,64),\n",
    "                                                 class_mode='binary',\n",
    "                                                 batch_size=32,\n",
    "                                                 shuffle=True\n",
    "                                                 )"
   ]
  },
  {
   "cell_type": "markdown",
   "metadata": {
    "id": "af8O4l90gk7B"
   },
   "source": [
    "## Part 2 - Building the CNN"
   ]
  },
  {
   "cell_type": "markdown",
   "metadata": {
    "id": "ces1gXY2lmoX"
   },
   "source": [
    "### Initialising the CNN"
   ]
  },
  {
   "cell_type": "code",
   "execution_count": 6,
   "metadata": {
    "id": "SAUt4UMPlhLS"
   },
   "outputs": [],
   "source": [
    "cnn = tf.keras.Sequential()"
   ]
  },
  {
   "cell_type": "markdown",
   "metadata": {
    "id": "u5YJj_XMl5LF"
   },
   "source": [
    "### Step 1 - Convolution"
   ]
  },
  {
   "cell_type": "code",
   "execution_count": 7,
   "metadata": {
    "id": "XPzPrMckl-hV"
   },
   "outputs": [],
   "source": [
    "cnn.add(tf.keras.layers.Conv2D(filters=32,\n",
    "                               kernel_size=3,\n",
    "                               strides=(1,1),\n",
    "                               padding='valid',\n",
    "                               activation='relu',\n",
    "                               input_shape=[64,64,3]))"
   ]
  },
  {
   "cell_type": "markdown",
   "metadata": {
    "id": "tf87FpvxmNOJ"
   },
   "source": [
    "### Step 2 - Pooling"
   ]
  },
  {
   "cell_type": "code",
   "execution_count": 8,
   "metadata": {
    "id": "ncpqPl69mOac"
   },
   "outputs": [],
   "source": [
    "cnn.add(tf.keras.layers.MaxPool2D(pool_size=2, \n",
    "                                  strides=2))"
   ]
  },
  {
   "cell_type": "markdown",
   "metadata": {
    "id": "xaTOgD8rm4mU"
   },
   "source": [
    "### Adding a second convolutional layer"
   ]
  },
  {
   "cell_type": "code",
   "execution_count": 9,
   "metadata": {
    "id": "i_-FZjn_m8gk"
   },
   "outputs": [],
   "source": [
    "cnn.add(tf.keras.layers.Conv2D(filters=32,\n",
    "                               kernel_size=3,\n",
    "                               strides=(1,1),\n",
    "                               padding='valid',\n",
    "                               activation='relu'))\n",
    "\n",
    "cnn.add(tf.keras.layers.MaxPool2D(pool_size=2, \n",
    "                                  strides=2))"
   ]
  },
  {
   "cell_type": "markdown",
   "metadata": {
    "id": "tmiEuvTunKfk"
   },
   "source": [
    "### Step 3 - Flattening"
   ]
  },
  {
   "cell_type": "code",
   "execution_count": 10,
   "metadata": {
    "id": "9CgjP0LEyL0Q"
   },
   "outputs": [],
   "source": [
    "cnn.add(tf.keras.layers.Flatten())"
   ]
  },
  {
   "cell_type": "markdown",
   "metadata": {
    "id": "dAoSECOm203v"
   },
   "source": [
    "### Step 4 - Full Connection"
   ]
  },
  {
   "cell_type": "code",
   "execution_count": 11,
   "metadata": {
    "id": "8GtmUlLd26Nq"
   },
   "outputs": [],
   "source": [
    "cnn.add(tf.keras.layers.Dense(units=128,\n",
    "                              activation='relu'\n",
    "                              ))"
   ]
  },
  {
   "cell_type": "markdown",
   "metadata": {
    "id": "yTldFvbX28Na"
   },
   "source": [
    "### Step 5 - Output Layer"
   ]
  },
  {
   "cell_type": "code",
   "execution_count": 12,
   "metadata": {
    "id": "1p_Zj1Mc3Ko_"
   },
   "outputs": [],
   "source": [
    "cnn.add(tf.keras.layers.Dense(units=1, activation='sigmoid'))"
   ]
  },
  {
   "cell_type": "markdown",
   "metadata": {
    "id": "D6XkI90snSDl"
   },
   "source": [
    "## Part 3 - Training the CNN"
   ]
  },
  {
   "cell_type": "markdown",
   "metadata": {
    "id": "vfrFQACEnc6i"
   },
   "source": [
    "### Compiling the CNN"
   ]
  },
  {
   "cell_type": "code",
   "execution_count": 13,
   "metadata": {
    "id": "NALksrNQpUlJ"
   },
   "outputs": [],
   "source": [
    "cnn.compile(optimizer='adam',\n",
    "            loss='binary_crossentropy',\n",
    "            metrics = ['accuracy'])"
   ]
  },
  {
   "cell_type": "markdown",
   "metadata": {
    "id": "ehS-v3MIpX2h"
   },
   "source": [
    "### Training the CNN on the Training set and evaluating it on the Test set"
   ]
  },
  {
   "cell_type": "code",
   "execution_count": 14,
   "metadata": {
    "id": "XUj1W4PJptta"
   },
   "outputs": [
    {
     "name": "stdout",
     "output_type": "stream",
     "text": [
      "Epoch 1/25\n",
      "250/250 [==============================] - 37s 150ms/step - loss: 0.6701 - accuracy: 0.5891 - val_loss: 0.6526 - val_accuracy: 0.6215\n",
      "Epoch 2/25\n",
      "250/250 [==============================] - 40s 160ms/step - loss: 0.6166 - accuracy: 0.6637 - val_loss: 0.6329 - val_accuracy: 0.6345\n",
      "Epoch 3/25\n",
      "250/250 [==============================] - 41s 163ms/step - loss: 0.5765 - accuracy: 0.7031 - val_loss: 0.6419 - val_accuracy: 0.6725\n",
      "Epoch 4/25\n",
      "250/250 [==============================] - 41s 166ms/step - loss: 0.5407 - accuracy: 0.7274 - val_loss: 0.5155 - val_accuracy: 0.7580\n",
      "Epoch 5/25\n",
      "250/250 [==============================] - 41s 165ms/step - loss: 0.5068 - accuracy: 0.7544 - val_loss: 0.5024 - val_accuracy: 0.7625\n",
      "Epoch 6/25\n",
      "250/250 [==============================] - 41s 164ms/step - loss: 0.4937 - accuracy: 0.7620 - val_loss: 0.4862 - val_accuracy: 0.7835\n",
      "Epoch 7/25\n",
      "250/250 [==============================] - 41s 164ms/step - loss: 0.4667 - accuracy: 0.7747 - val_loss: 0.4926 - val_accuracy: 0.7670\n",
      "Epoch 8/25\n",
      "250/250 [==============================] - 42s 169ms/step - loss: 0.4614 - accuracy: 0.7795 - val_loss: 0.4813 - val_accuracy: 0.7725\n",
      "Epoch 9/25\n",
      "250/250 [==============================] - 42s 166ms/step - loss: 0.4394 - accuracy: 0.7900 - val_loss: 0.5436 - val_accuracy: 0.7375\n",
      "Epoch 10/25\n",
      "250/250 [==============================] - 41s 164ms/step - loss: 0.4299 - accuracy: 0.7964 - val_loss: 0.5105 - val_accuracy: 0.7660\n",
      "Epoch 11/25\n",
      "250/250 [==============================] - 41s 165ms/step - loss: 0.4030 - accuracy: 0.8151 - val_loss: 0.4583 - val_accuracy: 0.7925\n",
      "Epoch 12/25\n",
      "250/250 [==============================] - 41s 165ms/step - loss: 0.3991 - accuracy: 0.8186 - val_loss: 0.5021 - val_accuracy: 0.7595\n",
      "Epoch 13/25\n",
      "250/250 [==============================] - 48s 193ms/step - loss: 0.3784 - accuracy: 0.8265 - val_loss: 0.4586 - val_accuracy: 0.7850\n",
      "Epoch 14/25\n",
      "250/250 [==============================] - 41s 165ms/step - loss: 0.3711 - accuracy: 0.8316 - val_loss: 0.4888 - val_accuracy: 0.7820\n",
      "Epoch 15/25\n",
      "250/250 [==============================] - 42s 170ms/step - loss: 0.3596 - accuracy: 0.8418 - val_loss: 0.5004 - val_accuracy: 0.7890\n",
      "Epoch 16/25\n",
      "250/250 [==============================] - 41s 165ms/step - loss: 0.3444 - accuracy: 0.8441 - val_loss: 0.4779 - val_accuracy: 0.7855\n",
      "Epoch 17/25\n",
      "250/250 [==============================] - 41s 166ms/step - loss: 0.3178 - accuracy: 0.8624 - val_loss: 0.4961 - val_accuracy: 0.7875\n",
      "Epoch 18/25\n",
      "250/250 [==============================] - 41s 166ms/step - loss: 0.3147 - accuracy: 0.8643 - val_loss: 0.4684 - val_accuracy: 0.7935\n",
      "Epoch 19/25\n",
      "250/250 [==============================] - 41s 165ms/step - loss: 0.2993 - accuracy: 0.8708 - val_loss: 0.4754 - val_accuracy: 0.7990\n",
      "Epoch 20/25\n",
      "250/250 [==============================] - 49s 197ms/step - loss: 0.2931 - accuracy: 0.8746 - val_loss: 0.5236 - val_accuracy: 0.7865\n",
      "Epoch 21/25\n",
      "250/250 [==============================] - 54s 217ms/step - loss: 0.2786 - accuracy: 0.8821 - val_loss: 0.5490 - val_accuracy: 0.7820\n",
      "Epoch 22/25\n",
      "250/250 [==============================] - 48s 191ms/step - loss: 0.2561 - accuracy: 0.8925 - val_loss: 0.5086 - val_accuracy: 0.7975\n",
      "Epoch 23/25\n",
      "250/250 [==============================] - 51s 205ms/step - loss: 0.2608 - accuracy: 0.8896 - val_loss: 0.5017 - val_accuracy: 0.8000\n",
      "Epoch 24/25\n",
      "250/250 [==============================] - 49s 194ms/step - loss: 0.2467 - accuracy: 0.8971 - val_loss: 0.5365 - val_accuracy: 0.7935\n",
      "Epoch 25/25\n",
      "250/250 [==============================] - 45s 181ms/step - loss: 0.2295 - accuracy: 0.9080 - val_loss: 0.5308 - val_accuracy: 0.7910\n"
     ]
    },
    {
     "data": {
      "text/plain": [
       "<tensorflow.python.keras.callbacks.History at 0x23268f25640>"
      ]
     },
     "execution_count": 14,
     "metadata": {},
     "output_type": "execute_result"
    }
   ],
   "source": [
    "cnn.fit(x= training_set, validation_data=test_set, epochs=25)"
   ]
  },
  {
   "cell_type": "markdown",
   "metadata": {
    "id": "U3PZasO0006Z"
   },
   "source": [
    "## Part 4 - Making a single prediction"
   ]
  },
  {
   "cell_type": "code",
   "execution_count": 23,
   "metadata": {
    "id": "gsSiWEJY1BPB"
   },
   "outputs": [],
   "source": [
    "import numpy as np\n",
    "from keras.preprocessing import image\n",
    "\n",
    "test_image=image.load_img(path='dataset/single_prediction/cat_or_dog_2.jpg',\n",
    "                          grayscale=False,\n",
    "                          color_mode='rgb',\n",
    "                          target_size=(64,64),\n",
    "                          interpolation='nearest')  #return PIL - python image library instance"
   ]
  },
  {
   "cell_type": "code",
   "execution_count": 24,
   "metadata": {},
   "outputs": [],
   "source": [
    "test_image = image.img_to_array(test_image)\n",
    "test_image = np.expand_dims(test_image, axis=0)\n",
    "result = cnn.predict(test_image)  "
   ]
  },
  {
   "cell_type": "code",
   "execution_count": 17,
   "metadata": {
    "id": "LaHKW6sW2Unt"
   },
   "outputs": [
    {
     "data": {
      "text/plain": [
       "{'cats': 0, 'dogs': 1}"
      ]
     },
     "execution_count": 17,
     "metadata": {},
     "output_type": "execute_result"
    }
   ],
   "source": [
    "training_set.class_indices"
   ]
  },
  {
   "cell_type": "code",
   "execution_count": 25,
   "metadata": {
    "id": "ED9KB3I54c1i"
   },
   "outputs": [
    {
     "name": "stdout",
     "output_type": "stream",
     "text": [
      "Cat\n"
     ]
    }
   ],
   "source": [
    "if result[0][0]==1:\n",
    "  prediction='Dogg'\n",
    "  print(prediction)\n",
    "else:\n",
    "  prediction='Cat'\n",
    "  print(prediction)\n",
    "    "
   ]
  }
 ],
 "metadata": {
  "colab": {
   "collapsed_sections": [],
   "name": "convolutional_neural_network.ipynb",
   "provenance": [],
   "toc_visible": true
  },
  "kernelspec": {
   "display_name": "Python 3",
   "language": "python",
   "name": "python3"
  },
  "language_info": {
   "codemirror_mode": {
    "name": "ipython",
    "version": 3
   },
   "file_extension": ".py",
   "mimetype": "text/x-python",
   "name": "python",
   "nbconvert_exporter": "python",
   "pygments_lexer": "ipython3",
   "version": "3.8.5"
  }
 },
 "nbformat": 4,
 "nbformat_minor": 1
}
